{
 "cells": [
  {
   "cell_type": "markdown",
   "id": "928ca4cc-d5cf-4712-a355-a710a8eb34d1",
   "metadata": {},
   "source": [
    "## Session 1 - \"Hello, World!\" and other greetings\n",
    "\n",
    "#### The print() function is widely used to provide information to the user depending on the purpose.\n",
    "#### To print a message like \"Hello, World!\" correctly:\n",
    "##### - The name of the function must be typed correctly (mostly lowercase)\n",
    "##### - There have to be parentheses to surround the object to be printed (like this)\n",
    "##### - You have to type in something that is going to be printed. In this case, a string has to be written with quotation marks: \"Hello, World!\"\n",
    "\n",
    "#### Combining them will give this command:\n",
    "### print(\"Hello, World!\")"
   ]
  },
  {
   "cell_type": "code",
   "execution_count": null,
   "id": "ab8def64-7267-4b86-8dc4-31263558df05",
   "metadata": {},
   "outputs": [],
   "source": [
    "#Try printing \"Hello World!\" here!\n",
    "#Click on this cell and press Ctrl+Enter (Cmd+Return on Mac)\n",
    "\n",
    "print(\"Hello, World!\")"
   ]
  },
  {
   "cell_type": "markdown",
   "id": "9566219d-659a-468c-8b87-c26b76e28233",
   "metadata": {},
   "source": [
    "#### Challenge 1: Print a greeting!\n",
    "\n",
    "##### Print an introduction from you that includes:\n",
    "##### - A friendly greeting\n",
    "##### - Your name\n",
    "##### - One of your hobbies\n",
    "##### - What would you like to use Python for\n",
    "\n",
    "###### Example: \n",
    "###### Hello! My name is TTA.\n",
    "###### I like playing table tennis.\n",
    "###### I would like to use Python to make games."
   ]
  },
  {
   "cell_type": "code",
   "execution_count": 8,
   "id": "af9b6763-d92d-4f81-87c5-4a8cd999cd88",
   "metadata": {},
   "outputs": [],
   "source": [
    "#Try the challenge by typing the code here!\n",
    "\n",
    "\n",
    "\n",
    "\n",
    "\n",
    "#Run the code using Ctrl+Enter (Cmd+Return on Mac)"
   ]
  },
  {
   "cell_type": "markdown",
   "id": "3681fb32-868d-4392-9e1e-cab112dfdeb5",
   "metadata": {},
   "source": [
    "#### Printing on multiple lines can be done using the following:\n",
    "\n",
    "##### 1) Using print() on multiple lines:\n",
    "###### print(\"Hello! My name is TTA.\")\n",
    "###### print(\"I like playing table tennis.\")\n",
    "###### print(\"I would like to use Python to make games.\"\n",
    "######\n",
    "##### 2) Adding \\n at the end of each line:\n",
    "###### print(\"Hello! My name is TTA.\\nI like playing table tennis.\\nI would like to use Python to make games.\"\n",
    "######\n",
    "##### 3) Using triple quotes:\n",
    "###### print('''\n",
    "###### Hello! My name is TTA.\n",
    "###### I like playing table tennis.\n",
    "###### I would like to use Python to make games.\n",
    "###### ''')"
   ]
  },
  {
   "cell_type": "markdown",
   "id": "fe1b12e0-e736-47c8-aeee-81eeeb4db307",
   "metadata": {},
   "source": [
    "#### Challenge 2: Fixing the code!\n",
    "\n",
    "##### The code below does not work. Please fix the errors!\n",
    "###### Tip: Identify the errors your code has after running it so you can fix them!"
   ]
  },
  {
   "cell_type": "code",
   "execution_count": null,
   "id": "b37022f7-153e-400a-915d-69cc6ad8def0",
   "metadata": {},
   "outputs": [],
   "source": [
    "print(Spread your wings,)\n",
    "print('It's time to fly')\n",
    "Print(\"Make the leap,\")\n",
    "print\"Own the sky.\""
   ]
  },
  {
   "cell_type": "markdown",
   "id": "f08d56de-63be-4edd-8264-2d1dbca09533",
   "metadata": {},
   "source": [
    "### Run and enjoy this quiz after you are done :)"
   ]
  },
  {
   "cell_type": "code",
   "execution_count": null,
   "id": "5c36502b-c116-4838-8da3-a4876b3b19c5",
   "metadata": {},
   "outputs": [],
   "source": [
    "print(\"Chapter 1 and 2 quiz\\n\")\n",
    "\n",
    "\n",
    "%run tests/session1print.py"
   ]
  }
 ],
 "metadata": {
  "kernelspec": {
   "display_name": "Python 3 (ipykernel)",
   "language": "python",
   "name": "python3"
  },
  "language_info": {
   "codemirror_mode": {
    "name": "ipython",
    "version": 3
   },
   "file_extension": ".py",
   "mimetype": "text/x-python",
   "name": "python",
   "nbconvert_exporter": "python",
   "pygments_lexer": "ipython3",
   "version": "3.12.7"
  }
 },
 "nbformat": 4,
 "nbformat_minor": 5
}
