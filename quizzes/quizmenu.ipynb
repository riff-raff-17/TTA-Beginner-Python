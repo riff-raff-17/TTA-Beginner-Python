{
 "cells": [
  {
   "cell_type": "code",
   "execution_count": null,
   "id": "4c9804a7-4a6e-4aa1-858f-07462b4e3397",
   "metadata": {
    "scrolled": true
   },
   "outputs": [],
   "source": [
    "%run tests/testmenu.py"
   ]
  },
  {
   "cell_type": "code",
   "execution_count": null,
   "id": "78b7284e-e038-4d1e-87e7-a125d92a94a9",
   "metadata": {},
   "outputs": [],
   "source": []
  }
 ],
 "metadata": {
  "kernelspec": {
   "display_name": "TTA",
   "language": "python",
   "name": "python3"
  },
  "language_info": {
   "codemirror_mode": {
    "name": "ipython",
    "version": 3
   },
   "file_extension": ".py",
   "mimetype": "text/x-python",
   "name": "python",
   "nbconvert_exporter": "python",
   "pygments_lexer": "ipython3",
   "version": "3.11.11"
  }
 },
 "nbformat": 4,
 "nbformat_minor": 5
}
