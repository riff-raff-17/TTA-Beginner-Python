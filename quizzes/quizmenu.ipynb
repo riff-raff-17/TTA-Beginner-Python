{
 "cells": [
  {
   "cell_type": "code",
   "execution_count": null,
   "id": "4c9804a7-4a6e-4aa1-858f-07462b4e3397",
   "metadata": {
    "scrolled": true
   },
   "outputs": [
    {
     "name": "stdout",
     "output_type": "stream",
     "text": [
      "Select test:\n",
      "        1. \"Hello, World!\" and other greetings\n",
      "        2. Variables and Other Data Types (Coming Soon)\n",
      "        3. Getting User Input\n",
      "        4. Basic Operators (Math and Comparison)\n",
      "        5. Conditional Statements (if, elif, else)\n",
      "        6. Loops (for and while loops)\n",
      "        7. Functions (def and return)\n",
      "        8. Lists and Basic List Operations\n",
      "        9. Dicionaries and Key-Value Pairs\n",
      "        10. Logical Operators (and, or not)\n",
      "        11. Importing Modules (math, random, etc.)\n",
      "        12. Basic Error Handling\n",
      "        Q. Formative/Summative Quizzes\n",
      "        \n",
      "\n",
      "Chapter 6: Loops (for and while loops)\n",
      "\n",
      "Q1: What do loops do in Python?\n",
      "  1. Runs a block of code only once\n",
      "  2. Stops the program from running\n",
      "  3. Only works with numbers\n",
      "  4. Repeats a block of code multiple times\n"
     ]
    },
    {
     "name": "stdin",
     "output_type": "stream",
     "text": [
      "Enter the number of your answer:  1\n"
     ]
    },
    {
     "name": "stdout",
     "output_type": "stream",
     "text": [
      "Wrong! The correct answer was 4: Repeats a block of code multiple times.\n",
      "\n",
      "Explanation: Loops repeat a block of code depending on the condition written.\n",
      "\n",
      "Q2: What are the types of loops called?\n",
      "  1. for loops\n",
      "  2. while loops\n",
      "  3. for and while loops\n",
      "  4. for, while and if-else loops\n"
     ]
    },
    {
     "name": "stdin",
     "output_type": "stream",
     "text": [
      "Enter the number of your answer:  1\n"
     ]
    },
    {
     "name": "stdout",
     "output_type": "stream",
     "text": [
      "Wrong! The correct answer was 3: for and while loops.\n",
      "\n",
      "Explanation: for and while loops can repeat a block of code. if-else statements do not loop.\n",
      "\n",
      "Q3: What will this code output?\n"
     ]
    },
    {
     "data": {
      "image/png": "[encoded data removed]",
      "text/plain": [
       "<IPython.core.display.Image object>"
      ]
     },
     "metadata": {},
     "output_type": "display_data"
    },
    {
     "name": "stdout",
     "output_type": "stream",
     "text": [
      "  1. 1 2 3\n",
      "  2. 0 1 2\n",
      "  3. 0 1 2 3\n",
      "  4. 1 2\n"
     ]
    },
    {
     "name": "stdin",
     "output_type": "stream",
     "text": [
      "Enter the number of your answer:  1\n"
     ]
    },
    {
     "name": "stdout",
     "output_type": "stream",
     "text": [
      "Wrong! The correct answer was 2: 0 1 2.\n",
      "\n",
      "Explanation: i starts from 0 on the first iteration and ends before the number specified in range()\n",
      "\n",
      "Q4: What will be the output?\n"
     ]
    },
    {
     "data": {
      "image/jpeg": "[encoded data removed]",
      "text/plain": [
       "<IPython.core.display.Image object>"
      ]
     },
     "metadata": {},
     "output_type": "display_data"
    },
    {
     "name": "stdout",
     "output_type": "stream",
     "text": [
      "  1. Loop 1 Loop 3\n",
      "  2. Loop 1 Loop 2 Loop 3 Loop 4\n",
      "  3. Loop 1 Loop 2 Loop 3 Loop 4 Loop 5\n",
      "  4. Loop 1 Loop 3 Loop 5\n"
     ]
    },
    {
     "name": "stdin",
     "output_type": "stream",
     "text": [
      "Enter the number of your answer:  1\n"
     ]
    },
    {
     "name": "stdout",
     "output_type": "stream",
     "text": [
      "Correct!\n",
      "\n",
      "Explanation: x starts at 1, increases by 2, prints \"Loop 1\" and \"Loop 3\" before stopping.\n",
      "\n",
      "Q5: Which statement immediately exits a loop?\n",
      "  1. continue\n",
      "  2. return\n",
      "  3. pass\n",
      "  4. break\n"
     ]
    },
    {
     "name": "stdin",
     "output_type": "stream",
     "text": [
      "Enter the number of your answer:  1\n"
     ]
    },
    {
     "name": "stdout",
     "output_type": "stream",
     "text": [
      "Wrong! The correct answer was 4: break.\n",
      "\n",
      "Explanation: 'break' exits a loop immediately, meaning that it will never execute the code in the loop anymore.\n",
      "\n",
      "Q6: What happens when the condition in a while loop is always True and there's no break statement?\n",
      "  1. Loop runs once\n",
      "  2. Loop runs forever\n",
      "  3. Error occurs\n",
      "  4. Loop will never run\n"
     ]
    },
    {
     "name": "stdin",
     "output_type": "stream",
     "text": [
      "Enter the number of your answer:  1\n"
     ]
    },
    {
     "name": "stdout",
     "output_type": "stream",
     "text": [
      "Wrong! The correct answer was 2: Loop runs forever.\n",
      "\n",
      "Explanation: Without a break, an always-true condition causes an infinite loop.\n",
      "\n",
      "Q7: Which statement is true about 'for' loops in Python?\n",
      "  1. Runs until a condition becomes False\n",
      "  2. Runs only once\n",
      "  3. Executes a fixed number of times\n",
      "  4. Uses do-while structure\n"
     ]
    },
    {
     "name": "stdin",
     "output_type": "stream",
     "text": [
      "Enter the number of your answer:  1\n"
     ]
    },
    {
     "name": "stdout",
     "output_type": "stream",
     "text": [
      "Wrong! The correct answer was 3: Executes a fixed number of times.\n",
      "\n",
      "Explanation: A for loop runs a fixed number of times, determined by range().\n",
      "\n",
      "Q8: What will be the last number printed by this loop?\n"
     ]
    },
    {
     "data": {
      "image/png": "[encoded data removed]",
      "text/plain": [
       "<IPython.core.display.Image object>"
      ]
     },
     "metadata": {},
     "output_type": "display_data"
    },
    {
     "name": "stdout",
     "output_type": "stream",
     "text": [
      "  1. 2\n",
      "  2. 5\n",
      "  3. 8\n",
      "  4. 10\n"
     ]
    },
    {
     "name": "stdin",
     "output_type": "stream",
     "text": [
      "Enter the number of your answer:  1\n"
     ]
    },
    {
     "name": "stdout",
     "output_type": "stream",
     "text": [
      "Wrong! The correct answer was 3: 8.\n",
      "\n",
      "Explanation: range starts at 2, adds 3 each time. -> 2, 5, 8\n",
      "\n",
      "Q9: Which loop is suitable when the number of iterations is not known in advance?\n",
      "  1. 'for' loop\n",
      "  2. 'while' loop\n",
      "  3. Both loops are suitable\n",
      "  4. Neither loop is suitable\n"
     ]
    },
    {
     "name": "stdin",
     "output_type": "stream",
     "text": [
      "Enter the number of your answer:  1\n"
     ]
    },
    {
     "name": "stdout",
     "output_type": "stream",
     "text": [
      "Wrong! The correct answer was 2: 'while' loop.\n",
      "\n",
      "Explanation: 'while' loops allow you to continously run a loop until a condition is met.\n",
      "\n",
      "Q10: How many numbers will be printed here?\n"
     ]
    },
    {
     "data": {
      "image/png": "[encoded data removed]",
      "text/plain": [
       "<IPython.core.display.Image object>"
      ]
     },
     "metadata": {},
     "output_type": "display_data"
    },
    {
     "name": "stdout",
     "output_type": "stream",
     "text": [
      "  1. 5\n",
      "  2. 6\n",
      "  3. 4\n",
      "  4. 10\n"
     ]
    },
    {
     "name": "stdin",
     "output_type": "stream",
     "text": [
      "Enter the number of your answer:  1\n"
     ]
    },
    {
     "name": "stdout",
     "output_type": "stream",
     "text": [
      "Correct!\n",
      "\n",
      "Explanation: 0, 2, 4, 6, 8 will be printed.\n",
      "\n",
      "Q11: How many numbers will be printed here?\n"
     ]
    },
    {
     "data": {
      "image/png": "[encoded data removed]",
      "text/plain": [
       "<IPython.core.display.Image object>"
      ]
     },
     "metadata": {},
     "output_type": "display_data"
    },
    {
     "name": "stdout",
     "output_type": "stream",
     "text": [
      "  1. 1 2 3 4 5\n",
      "  2. 5 4 3 2 1\n",
      "  3. 5 4 3 2 1 0\n",
      "  4. Error\n"
     ]
    },
    {
     "name": "stdin",
     "output_type": "stream",
     "text": [
      "Enter the number of your answer:  1\n"
     ]
    },
    {
     "name": "stdout",
     "output_type": "stream",
     "text": [
      "Wrong! The correct answer was 2: 5 4 3 2 1.\n",
      "\n",
      "Explanation: 'i' starts at 5, going backwards (step = -1), and stops before 0.\n",
      "\n",
      "Q12: What does range(7) mean in Python?\n",
      "  1. Start at 1, stop at 7, step by 1\n",
      "  2. Start at 0, stop at 7, step by 1\n",
      "  3. Start at 0, stop at 6, step by 1\n",
      "  4. Start at 1, stop at 6, step by 1\n"
     ]
    },
    {
     "name": "stdin",
     "output_type": "stream",
     "text": [
      "Enter the number of your answer:  1\n"
     ]
    },
    {
     "name": "stdout",
     "output_type": "stream",
     "text": [
      "Wrong! The correct answer was 2: Start at 0, stop at 7, step by 1.\n",
      "\n",
      "Explanation: If only one number is given, it's the stop. Start defaults to 0 and Step defaults to 1.\n",
      "\n",
      "Q13: Which line below has an error?\n"
     ]
    },
    {
     "data": {
      "image/png": "[encoded data removed]",
      "text/plain": [
       "<IPython.core.display.Image object>"
      ]
     },
     "metadata": {},
     "output_type": "display_data"
    },
    {
     "name": "stdout",
     "output_type": "stream",
     "text": [
      "  1. Line 1\n",
      "  2. Line 2\n",
      "  3. Both lines\n",
      "  4. No error\n"
     ]
    },
    {
     "name": "stdin",
     "output_type": "stream",
     "text": [
      "Enter the number of your answer:  1\n"
     ]
    },
    {
     "name": "stdout",
     "output_type": "stream",
     "text": [
      "Wrong! The correct answer was 2: Line 2.\n",
      "\n",
      "Explanation: Step cannot be 0 â€” this causes a ValueError.\n",
      "\n",
      "Q14: What is the result of the code below?\n"
     ]
    },
    {
     "data": {
      "image/png": "[encoded data removed]",
      "text/plain": [
       "<IPython.core.display.Image object>"
      ]
     },
     "metadata": {},
     "output_type": "display_data"
    },
    {
     "name": "stdout",
     "output_type": "stream",
     "text": [
      "  1. LoopError: break cannot be used without if-else statement\n",
      "  2. No error, but nothing is printed\n",
      "  3. 'Hi' is printed once\n",
      "  4. 'Hi' is printed infinitely\n"
     ]
    },
    {
     "name": "stdin",
     "output_type": "stream",
     "text": [
      "Enter the number of your answer:  3\n"
     ]
    },
    {
     "name": "stdout",
     "output_type": "stream",
     "text": [
      "Correct!\n",
      "\n",
      "Explanation: The loop starts as infinite, the break exits it immediately, but not before it prints 'Hi' once.\n",
      "\n",
      "Q15: What is the last number printed?\n"
     ]
    },
    {
     "data": {
      "image/png": "[encoded data removed]",
      "text/plain": [
       "<IPython.core.display.Image object>"
      ]
     },
     "metadata": {},
     "output_type": "display_data"
    },
    {
     "name": "stdout",
     "output_type": "stream",
     "text": [
      "  1. 0\n",
      "  2. 1\n",
      "  3. 5\n",
      "  4. 6\n"
     ]
    }
   ],
   "source": [
    "%run tests/testmenu.py"
   ]
  },
  {
   "cell_type": "code",
   "execution_count": 5,
   "id": "f5f4dd0a-d086-4f73-9222-adc97ded15d9",
   "metadata": {},
   "outputs": [
    {
     "name": "stdout",
     "output_type": "stream",
     "text": [
      "5\n",
      "4\n",
      "3\n",
      "2\n"
     ]
    }
   ],
   "source": [
    "for i in range(5,1,-1):\n",
    "    print(i)\n",
    "    break"
   ]
  },
  {
   "cell_type": "code",
   "execution_count": null,
   "id": "e78aedff-ad2c-415d-bda4-9dd59eb3f0f7",
   "metadata": {},
   "outputs": [],
   "source": []
  }
 ],
 "metadata": {
  "kernelspec": {
   "display_name": "Python 3 (ipykernel)",
   "language": "python",
   "name": "python3"
  },
  "language_info": {
   "codemirror_mode": {
    "name": "ipython",
    "version": 3
   },
   "file_extension": ".py",
   "mimetype": "text/x-python",
   "name": "python",
   "nbconvert_exporter": "python",
   "pygments_lexer": "ipython3",
   "version": "3.12.7"
  }
 },
 "nbformat": 4,
 "nbformat_minor": 5
}
