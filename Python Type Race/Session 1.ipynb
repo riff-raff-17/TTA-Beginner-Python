{
 "cells": [
  {
   "cell_type": "markdown",
   "id": "928ca4cc-d5cf-4712-a355-a710a8eb34d1",
   "metadata": {},
   "source": [
    "# Welcome\n"
   ]
  },
  {
   "cell_type": "code",
   "execution_count": null,
   "id": "ab8def64-7267-4b86-8dc4-31263558df05",
   "metadata": {},
   "outputs": [],
   "source": [
    "#Try printing \"Hello World!\" here\n",
    "print(\"Hello World!\")"
   ]
  },
  {
   "cell_type": "markdown",
   "id": "f08d56de-63be-4edd-8264-2d1dbca09533",
   "metadata": {},
   "source": [
    "### Run the enjoy this quiz :)"
   ]
  },
  {
   "cell_type": "code",
   "execution_count": null,
   "id": "5c36502b-c116-4838-8da3-a4876b3b19c5",
   "metadata": {},
   "outputs": [],
   "source": [
    "print(\"Chapter 1 and 2 quiz\\n\")\n",
    "\n",
    "\n",
    "%run tests\\session1print.py"
   ]
  },
  {
   "cell_type": "raw",
   "id": "daac950d-b7fd-4e8c-a6ac-cae60a5ff4ae",
   "metadata": {},
   "source": []
  }
 ],
 "metadata": {
  "kernelspec": {
   "display_name": "Python [conda env:base] *",
   "language": "python",
   "name": "conda-base-py"
  },
  "language_info": {
   "codemirror_mode": {
    "name": "ipython",
    "version": 3
   },
   "file_extension": ".py",
   "mimetype": "text/x-python",
   "name": "python",
   "nbconvert_exporter": "python",
   "pygments_lexer": "ipython3",
   "version": "3.12.7"
  }
 },
 "nbformat": 4,
 "nbformat_minor": 5
}
