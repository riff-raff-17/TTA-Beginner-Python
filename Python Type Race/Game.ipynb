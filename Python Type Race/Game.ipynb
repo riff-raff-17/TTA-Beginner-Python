{
 "cells": [
  {
   "cell_type": "markdown",
   "id": "95d57fa1-1e37-45e2-86ec-a607322a8b48",
   "metadata": {},
   "source": [
    "### Typing Game\n",
    "\n",
    "#### Click on the cell below and hit Ctrl+Enter (Cmd+Enter on Mac) to run"
   ]
  },
  {
   "cell_type": "code",
   "execution_count": 14,
   "id": "1a83d6bc-d220-418c-b541-9e86f5e66ec9",
   "metadata": {},
   "outputs": [
    {
     "name": "stdout",
     "output_type": "stream",
     "text": [
      "Type this as fast as you can:\n",
      "\n",
      "magnetic firework birthday holiday bluebird yearned zeppelin workshop magazine reindeer\n",
      "\n",
      "Get ready!\n",
      "Go!\n"
     ]
    },
    {
     "name": "stdin",
     "output_type": "stream",
     "text": [
      "\n",
      "Your input:  magnetic firework birthday holiday blue\n"
     ]
    },
    {
     "name": "stdout",
     "output_type": "stream",
     "text": [
      "\n",
      "Nice try! You weren't so accurate though...\n",
      "Time taken: 6.40 seconds\n",
      "Words per minute: 93.8 wpm\n",
      "Accuracy: 61.90%\n",
      "Score: Invalid! Accuracy too low!\n",
      "\n",
      "Play again?\n",
      "Easy - Highest score: 132.4, Rank: 🤓 Mr. Rafa 🤓 (120+)\n",
      "Normal - Highest score: 139.3, Rank: 🤓 Mr. Rafa 🤓 (120+)\n",
      "Hard - Highest score: 117.3, Rank: 👾 Typing Legend 👾 (100-119)\n"
     ]
    },
    {
     "name": "stdin",
     "output_type": "stream",
     "text": [
      "Easy (3-4 letter words),  Normal (5-6 letter words),  Hard (7-8 letter words),  Quit (Exits the game)\n",
      " quit\n"
     ]
    }
   ],
   "source": [
    "%run programs/typegame.py"
   ]
  },
  {
   "cell_type": "code",
   "execution_count": null,
   "id": "010629b1-380f-45ca-88a9-af8c2b0a1324",
   "metadata": {},
   "outputs": [],
   "source": []
  }
 ],
 "metadata": {
  "kernelspec": {
   "display_name": "Python [conda env:base] *",
   "language": "python",
   "name": "conda-base-py"
  },
  "language_info": {
   "codemirror_mode": {
    "name": "ipython",
    "version": 3
   },
   "file_extension": ".py",
   "mimetype": "text/x-python",
   "name": "python",
   "nbconvert_exporter": "python",
   "pygments_lexer": "ipython3",
   "version": "3.11.7"
  }
 },
 "nbformat": 4,
 "nbformat_minor": 5
}
